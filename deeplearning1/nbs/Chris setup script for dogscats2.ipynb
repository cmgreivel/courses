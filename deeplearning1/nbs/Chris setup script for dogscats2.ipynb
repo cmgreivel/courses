{
 "cells": [
  {
   "cell_type": "code",
   "execution_count": 6,
   "metadata": {
    "collapsed": true
   },
   "outputs": [],
   "source": [
    "import os, json, os.path\n",
    "from glob import glob\n",
    "import random"
   ]
  },
  {
   "cell_type": "code",
   "execution_count": 7,
   "metadata": {
    "collapsed": false
   },
   "outputs": [],
   "source": [
    "path = \"data/dogscats2/\"\n",
    "if (not os.path.isdir(path + 'valid')):\n",
    "    os.mkdir(path + 'valid')\n",
    "if (not os.path.isdir(path + 'valid/dogs')):\n",
    "    os.mkdir(path + 'valid/dogs')\n",
    "if (not os.path.isdir(path + 'valid/cats')):\n",
    "    os.mkdir(path + 'valid/cats')\n",
    "# Take 1000 random files from train/[dogs, cats] and move to valid/[dogs, cats]\n"
   ]
  },
  {
   "cell_type": "code",
   "execution_count": 8,
   "metadata": {
    "collapsed": false
   },
   "outputs": [
    {
     "name": "stdout",
     "output_type": "stream",
     "text": [
      "found 12500 cats and 12500 dogs\n"
     ]
    }
   ],
   "source": [
    "allcats = os.listdir(path + 'train/cats')\n",
    "alldogs = os.listdir(path + 'train/dogs')\n",
    "print(\"found {} cats and {} dogs\".format(len(allcats), len(alldogs)))"
   ]
  },
  {
   "cell_type": "code",
   "execution_count": 10,
   "metadata": {
    "collapsed": false
   },
   "outputs": [
    {
     "name": "stdout",
     "output_type": "stream",
     "text": [
      "randomly found 1000 cats and 1000 dogs\n",
      "cat.7955.jpg, dog.7541.jpg\n",
      "cat.8572.jpg, dog.2903.jpg\n",
      "cat.442.jpg, dog.294.jpg\n",
      "cat.12355.jpg, dog.9208.jpg\n",
      "cat.1120.jpg, dog.2393.jpg\n",
      "cat.6936.jpg, dog.4808.jpg\n",
      "cat.9330.jpg, dog.9832.jpg\n",
      "cat.4072.jpg, dog.2409.jpg\n",
      "cat.528.jpg, dog.9948.jpg\n",
      "cat.3910.jpg, dog.5409.jpg\n"
     ]
    }
   ],
   "source": [
    "rand_cats = random.sample(allcats, 1000)\n",
    "rand_dogs = random.sample(alldogs, 1000)\n",
    "print(\"randomly found {} cats and {} dogs\".format(len(rand_cats), len(rand_dogs)))\n",
    "for i in range(10):\n",
    "    print(\"{}, {}\".format(rand_cats[i], rand_dogs[i]))"
   ]
  },
  {
   "cell_type": "code",
   "execution_count": 11,
   "metadata": {
    "collapsed": true
   },
   "outputs": [],
   "source": [
    "for i in range(len(rand_cats)):\n",
    "    os.rename(path+'train/cats/'+rand_cats[i], path+'valid/cats/'+rand_cats[i])\n",
    "    os.rename(path+'train/dogs/'+rand_dogs[i], path+'valid/dogs/'+rand_dogs[i])"
   ]
  },
  {
   "cell_type": "code",
   "execution_count": null,
   "metadata": {
    "collapsed": true
   },
   "outputs": [],
   "source": []
  }
 ],
 "metadata": {
  "kernelspec": {
   "display_name": "Python [conda root]",
   "language": "python",
   "name": "conda-root-py"
  },
  "language_info": {
   "codemirror_mode": {
    "name": "ipython",
    "version": 2
   },
   "file_extension": ".py",
   "mimetype": "text/x-python",
   "name": "python",
   "nbconvert_exporter": "python",
   "pygments_lexer": "ipython2",
   "version": "2.7.12"
  }
 },
 "nbformat": 4,
 "nbformat_minor": 1
}
