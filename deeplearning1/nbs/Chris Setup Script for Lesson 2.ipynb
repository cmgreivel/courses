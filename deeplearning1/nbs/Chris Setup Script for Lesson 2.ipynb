{
 "cells": [
  {
   "cell_type": "code",
   "execution_count": 6,
   "metadata": {},
   "outputs": [],
   "source": [
    "path1 = \"data\"\n",
    "path2 = \"lesson2\"\n",
    "import os\n",
    "\n",
    "fullpath = os.path.join(path1, path2)\n",
    "if not os.path.isdir(path1):\n",
    "    os.mkdir(path1)\n",
    "if not os.path.isdir(fullpath):\n",
    "    os.mkdir(fullpath)"
   ]
  },
  {
   "cell_type": "code",
   "execution_count": 7,
   "metadata": {},
   "outputs": [],
   "source": [
    "if not os.path.isdir(os.path.join(fullpath, \"test\")):\n",
    "    os.mkdir(os.path.join(fullpath, \"test\"))\n",
    "if not os.path.isdir(os.path.join(fullpath, \"test\", \"unknown\")):\n",
    "    os.mkdir(os.path.join(fullpath, \"test\", \"unknown\"))\n",
    "origpath = \"/tmp/fastai\"\n",
    "os.renames(os.path.join(origpath, \"test\"), os.path.join(fullpath, \"test\", \"unknown\"))"
   ]
  },
  {
   "cell_type": "code",
   "execution_count": 10,
   "metadata": {},
   "outputs": [],
   "source": [
    "import glob\n",
    "if not os.path.isdir(os.path.join(fullpath, \"train\")):\n",
    "    os.mkdir(os.path.join(fullpath, \"train\"))\n",
    "if not os.path.isdir(os.path.join(fullpath, \"train\", \"dog\")):\n",
    "    os.mkdir(os.path.join(fullpath, \"train\", \"dog\"))\n",
    "if not os.path.isdir(os.path.join(fullpath, \"train\", \"cat\")):\n",
    "    os.mkdir(os.path.join(fullpath, \"train\", \"cat\"))\n",
    "\n",
    "dog_files = glob.glob(os.path.join(origpath, \"train\", \"dog*\"))\n",
    "for dog_file in dog_files:\n",
    "    os.rename(dog_file, os.path.join(fullpath, \"train\", \"dog\", os.path.basename(dog_file)))"
   ]
  },
  {
   "cell_type": "code",
   "execution_count": 11,
   "metadata": {
    "collapsed": true
   },
   "outputs": [],
   "source": [
    "cat_files = glob.glob(os.path.join(origpath, \"train\", \"cat*\"))\n",
    "for cat_file in cat_files:\n",
    "    os.rename(cat_file, os.path.join(fullpath, \"train\", \"cat\", os.path.basename(cat_file)))"
   ]
  },
  {
   "cell_type": "markdown",
   "metadata": {},
   "source": [
    "* Move some from train to valid\n",
    "* Copy some to sample"
   ]
  },
  {
   "cell_type": "code",
   "execution_count": 13,
   "metadata": {
    "collapsed": true
   },
   "outputs": [],
   "source": [
    "if not os.path.isdir(os.path.join(fullpath, \"valid\")):\n",
    "    os.mkdir(os.path.join(fullpath, \"valid\"))\n",
    "if not os.path.isdir(os.path.join(fullpath, \"valid\", \"dog\")):\n",
    "    os.mkdir(os.path.join(fullpath, \"valid\", \"dog\"))\n",
    "if not os.path.isdir(os.path.join(fullpath, \"valid\", \"cat\")):\n",
    "    os.mkdir(os.path.join(fullpath, \"valid\", \"cat\"))"
   ]
  },
  {
   "cell_type": "code",
   "execution_count": 17,
   "metadata": {},
   "outputs": [],
   "source": [
    "# Move a random sample from train to valid\n",
    "import numpy as np\n",
    "dog_samples = np.random.choice(dog_files, 1000, replace=False)\n",
    "for dog_sample in dog_samples:\n",
    "    os.rename(os.path.join(fullpath, \"train\", \"dog\", os.path.basename(dog_sample)),\n",
    "              os.path.join(fullpath, \"valid\", \"dog\", os.path.basename(dog_sample)))\n",
    "cat_samples = np.random.choice(cat_files, 1000, replace=False)\n",
    "for cat_sample in cat_samples:\n",
    "    os.rename(os.path.join(fullpath, \"train\", \"cat\", os.path.basename(cat_sample)),\n",
    "              os.path.join(fullpath, \"valid\", \"cat\", os.path.basename(cat_sample)))"
   ]
  },
  {
   "cell_type": "code",
   "execution_count": 20,
   "metadata": {},
   "outputs": [],
   "source": [
    "import shutil\n",
    "if not os.path.isdir(os.path.join(fullpath, \"sample\")):\n",
    "    os.mkdir(os.path.join(fullpath, \"sample\"))\n",
    "if not os.path.isdir(os.path.join(fullpath, \"sample\", \"train\")):\n",
    "    os.mkdir(os.path.join(fullpath, \"sample\", \"train\"))\n",
    "if not os.path.isdir(os.path.join(fullpath, \"sample\", \"train\", \"dog\")):\n",
    "    os.mkdir(os.path.join(fullpath, \"sample\", \"train\", \"dog\"))\n",
    "if not os.path.isdir(os.path.join(fullpath, \"sample\", \"train\", \"cat\")):\n",
    "    os.mkdir(os.path.join(fullpath, \"sample\", \"train\", \"cat\"))\n",
    "\n",
    "dog_files = glob.glob(os.path.join(fullpath, \"train\", \"dog\", \"*\"))\n",
    "cat_files = glob.glob(os.path.join(fullpath, \"train\", \"cat\", \"*\"))\n",
    "\n",
    "dog_samples = np.random.choice(dog_files, 16, replace=False)\n",
    "for dog_sample in dog_samples:\n",
    "    shutil.copy2(dog_sample,\n",
    "                  os.path.join(fullpath, \"sample\", \"train\", \"dog\"))\n",
    "cat_samples = np.random.choice(cat_files, 16, replace=False)\n",
    "for cat_sample in cat_samples:\n",
    "    shutil.copy2(cat_sample,\n",
    "                  os.path.join(fullpath, \"sample\", \"train\", \"cat\"))"
   ]
  },
  {
   "cell_type": "code",
   "execution_count": null,
   "metadata": {
    "collapsed": true
   },
   "outputs": [],
   "source": []
  }
 ],
 "metadata": {
  "kernelspec": {
   "display_name": "Python 2",
   "language": "python",
   "name": "python2"
  },
  "language_info": {
   "codemirror_mode": {
    "name": "ipython",
    "version": 2
   },
   "file_extension": ".py",
   "mimetype": "text/x-python",
   "name": "python",
   "nbconvert_exporter": "python",
   "pygments_lexer": "ipython2",
   "version": "2.7.13"
  }
 },
 "nbformat": 4,
 "nbformat_minor": 2
}
